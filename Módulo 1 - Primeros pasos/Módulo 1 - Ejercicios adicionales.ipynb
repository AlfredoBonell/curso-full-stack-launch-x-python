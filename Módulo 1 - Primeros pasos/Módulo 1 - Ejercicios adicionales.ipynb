{
 "cells": [
  {
   "cell_type": "markdown",
   "metadata": {},
   "source": [
    "# Ejercicio #1 - Sumatoria\n",
    "\n",
    "Primer paso: Empezar a codificar. ✌️\n",
    "\n",
    "Descripción del programa: Obtener el resultado de una suma. 🧮"
   ]
  },
  {
   "cell_type": "code",
   "execution_count": 1,
   "metadata": {},
   "outputs": [
    {
     "name": "stdout",
     "output_type": "stream",
     "text": [
      "2\n"
     ]
    }
   ],
   "source": [
    "suma = 1 + 1\n",
    "print(suma)"
   ]
  },
  {
   "cell_type": "markdown",
   "metadata": {},
   "source": [
    "# Ejercicio #2 - Usar la función Print\n",
    "\n",
    "Primer paso: Empezar a codificar. ✌️\n",
    "\n",
    "Descripción del programa: Vamos a realizar un simple print de un mensaje en Python."
   ]
  },
  {
   "cell_type": "code",
   "execution_count": 2,
   "metadata": {},
   "outputs": [
    {
     "name": "stdout",
     "output_type": "stream",
     "text": [
      "Hola Launch X!\n"
     ]
    }
   ],
   "source": [
    "print(\"Hola Launch X!\")"
   ]
  },
  {
   "cell_type": "markdown",
   "metadata": {},
   "source": [
    "# Ejercicio #3 - Uso de variables\n",
    "\n",
    "Primer paso: Empezar a codificar. ✌️\n",
    "\n",
    "Descripción del programa: Utilizando variables básicas en Python."
   ]
  },
  {
   "cell_type": "code",
   "execution_count": 3,
   "metadata": {},
   "outputs": [
    {
     "name": "stdout",
     "output_type": "stream",
     "text": [
      "El resultado es: 75\n"
     ]
    }
   ],
   "source": [
    "sum = 10 + 15\n",
    "product = sum * 3\n",
    "print(\"El resultado es: \" + str(product))"
   ]
  },
  {
   "cell_type": "markdown",
   "metadata": {},
   "source": [
    "# Ejercicio #4 - Tipos de datos\n",
    "\n",
    "Primer paso: Empezar a codificar. ✌️\n",
    "\n",
    "Descripción del programa: Aprendiendo a utilizar la función type()."
   ]
  },
  {
   "cell_type": "code",
   "execution_count": 4,
   "metadata": {},
   "outputs": [
    {
     "data": {
      "text/plain": [
       "float"
      ]
     },
     "execution_count": 4,
     "metadata": {},
     "output_type": "execute_result"
    }
   ],
   "source": [
    "# Declaramos la variable\n",
    "distancia_a_alfa_centauri = 4.367\n",
    "\n",
    "# Descubrimos su tipo de dato\n",
    "type(distancia_a_alfa_centauri)"
   ]
  },
  {
   "cell_type": "markdown",
   "metadata": {},
   "source": [
    "# Ejercicio #5 - Operadores\n",
    "\n",
    "Primer paso: Empezar a codificar. ✌️\n",
    "\n",
    "Descripción del programa: Aprendiendo a utilizar los operadores aritméticos en Python."
   ]
  },
  {
   "cell_type": "code",
   "execution_count": 5,
   "metadata": {},
   "outputs": [
    {
     "name": "stdout",
     "output_type": "stream",
     "text": [
      "El resultado de la suma es: 30 y su tipo de dato es: <class 'int'>\n",
      "\n",
      "El resultado de la resta es: 3 y su tipo de dato es: <class 'int'>\n",
      "\n",
      "El resultado de la división es: 5.0 y su tipo de dato es: <class 'float'>\n",
      "\n",
      "El resultado de la multiplicación es: 24 y su tipo de dato es: <class 'int'>\n",
      "\n"
     ]
    }
   ],
   "source": [
    "num1 = 10\n",
    "num2 = 20\n",
    "sum = num1 + num2\n",
    "\n",
    "print(\"El resultado de la suma es: \" + str(sum) + \" y su tipo de dato es: \" + str(type(sum)) + \"\\n\")\n",
    "\n",
    "num1 = 5\n",
    "num2 = 2\n",
    "res = num1 - num2\n",
    "\n",
    "print(\"El resultado de la resta es: \" + str(res) + \" y su tipo de dato es: \" + str(type(res)) + \"\\n\")\n",
    "\n",
    "num1 = 10\n",
    "num2 = 2\n",
    "div = num1 / num2\n",
    "\n",
    "print(\"El resultado de la división es: \" + str(div) + \" y su tipo de dato es: \" + str(type(div)) + \"\\n\")\n",
    "\n",
    "num1 = 3\n",
    "num2 = 8\n",
    "mul = num1 * num2\n",
    "\n",
    "print(\"El resultado de la multiplicación es: \" + str(mul) + \" y su tipo de dato es: \" + str(type(mul)) + \"\\n\")\n"
   ]
  },
  {
   "cell_type": "markdown",
   "metadata": {},
   "source": [
    "# Ejercicio #6 - Fechas\n",
    "\n",
    "Primer paso: Empezar a codificar. ✌️\n",
    "\n",
    "Descripción del programa: Aprendiendo a utilizar funciones para obtener fechas y formatos."
   ]
  },
  {
   "cell_type": "code",
   "execution_count": 6,
   "metadata": {},
   "outputs": [
    {
     "name": "stdout",
     "output_type": "stream",
     "text": [
      "2022-02-13\n"
     ]
    }
   ],
   "source": [
    "# Importamos la biblioteca \n",
    "from datetime import date\n",
    "\n",
    "# Obtenemos la fecha de hoy\n",
    "date.today()\n",
    "\n",
    "# Mostramos la fecha en la consola\n",
    "print(date.today())"
   ]
  },
  {
   "cell_type": "markdown",
   "metadata": {},
   "source": [
    "# Ejercicio #7 - Conversión de tipos de datos\n",
    "\n",
    "Primer paso: Empezar a codificar. ✌️\n",
    "\n",
    "Descripción del programa: Aprendiendo a utilizar funciones para obtener fechas y formatos."
   ]
  },
  {
   "cell_type": "code",
   "execution_count": 7,
   "metadata": {},
   "outputs": [
    {
     "name": "stdout",
     "output_type": "stream",
     "text": [
      "La fecha actual es: 2022-02-13\n"
     ]
    }
   ],
   "source": [
    "# Importamos la biblioteca \n",
    "from datetime import date\n",
    "\n",
    "print(\"La fecha actual es: \" + str(date.today()))"
   ]
  },
  {
   "cell_type": "markdown",
   "metadata": {},
   "source": [
    "# Ejercicio #8 - Recopilar información\n",
    "\n",
    "Primer paso: Empezar a codificar. ✌️\n",
    "\n",
    "Descripción del programa: Aprendiendo a utilizar la captura de información en un input."
   ]
  },
  {
   "cell_type": "code",
   "execution_count": 8,
   "metadata": {},
   "outputs": [
    {
     "name": "stdout",
     "output_type": "stream",
     "text": [
      "Bienvenido al programa de bienvenida\n",
      "Saludos: Alfredo Bonell\n"
     ]
    }
   ],
   "source": [
    "print(\"Bienvenido al programa de bienvenida\")\n",
    "name = input(\"Introduzca su nombre \")\n",
    "print(\"Saludos: \" + name)"
   ]
  },
  {
   "cell_type": "markdown",
   "metadata": {},
   "source": [
    "# Ejercicio #9 - Trabajar con números\n",
    "\n",
    "Primer paso: Empezar a codificar. ✌️\n",
    "\n",
    "Descripción del programa: Aprendiendo a utilizar la captura de datos iteractuando con el usuario para poder sumar los dos datos capturados."
   ]
  },
  {
   "cell_type": "code",
   "execution_count": 9,
   "metadata": {},
   "outputs": [
    {
     "name": "stdout",
     "output_type": "stream",
     "text": [
      "Calculadora\n",
      "8\n"
     ]
    }
   ],
   "source": [
    "print(\"Calculadora\")\n",
    "first_number = input(\"Primer número: \")\n",
    "second_number = input(\"Segundo número: \")\n",
    "print(int(first_number) + int(second_number))"
   ]
  }
 ],
 "metadata": {
  "interpreter": {
   "hash": "3d50778f0d976ee134ad16b7d438cc0d4a0a5c994fc3aaa18a51826687ff9cff"
  },
  "kernelspec": {
   "display_name": "Python 3.10.2 64-bit",
   "language": "python",
   "name": "python3"
  },
  "language_info": {
   "codemirror_mode": {
    "name": "ipython",
    "version": 3
   },
   "file_extension": ".py",
   "mimetype": "text/x-python",
   "name": "python",
   "nbconvert_exporter": "python",
   "pygments_lexer": "ipython3",
   "version": "3.10.2"
  },
  "orig_nbformat": 4
 },
 "nbformat": 4,
 "nbformat_minor": 2
}
