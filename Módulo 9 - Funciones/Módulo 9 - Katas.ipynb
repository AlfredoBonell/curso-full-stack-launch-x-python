{
 "cells": [
  {
   "cell_type": "markdown",
   "metadata": {},
   "source": [
    "# Ejercicio #1 - Uso de funciones en Python\n",
    "\n",
    "Primer paso: Leer los requerimientos. ✌️\n",
    "\n",
    "Segundo paso: Empezar a codificar. ✌️\n",
    "\n",
    "Descripción del programa: Aprender a trabajar con argumentos en funciones"
   ]
  },
  {
   "cell_type": "code",
   "execution_count": 47,
   "metadata": {},
   "outputs": [
    {
     "name": "stdout",
     "output_type": "stream",
     "text": [
      "{'tanque_uno': 5, 'tanque_dos': 20, 'tanque_tres': 15, 'total_tanques': 3}\n"
     ]
    }
   ],
   "source": [
    "# Nota: Hice un arreglo de los valores que estoy mandando para recibirlos como parámetros\n",
    "\n",
    "parametros = {\n",
    "    'tanque_uno': 5,\n",
    "    'tanque_dos': 20,\n",
    "    'tanque_tres': 15,\n",
    "    'total_tanques' : 3\n",
    "}\n",
    "\n",
    "print(parametros)"
   ]
  },
  {
   "cell_type": "code",
   "execution_count": 48,
   "metadata": {},
   "outputs": [
    {
     "name": "stdout",
     "output_type": "stream",
     "text": [
      "El resultado del reporte es: \n",
      "\n",
      "    Tanque uno: 5%\n",
      "    Tanque dos: 20%\n",
      "    Tanque tres: 15%\n",
      "    Total de tanques: 3%\n",
      "    Promedio de tanques: 13%\n",
      "    \n"
     ]
    }
   ],
   "source": [
    "# Función para leer 3 tanques de combustible y muestre el promedio\n",
    "\n",
    "def generar_reporte(parametros):\n",
    "    return f\"\"\"\n",
    "    Tanque uno: {parametros['tanque_uno']}%\n",
    "    Tanque dos: {parametros['tanque_dos']}%\n",
    "    Tanque tres: {parametros['tanque_tres']}%\n",
    "    Total de tanques: {parametros['total_tanques']}%\n",
    "    Promedio de tanques: {int((parametros['tanque_uno'] + parametros['tanque_dos'] + parametros['tanque_tres']) / parametros['total_tanques'])}%\n",
    "    \"\"\"\n",
    "\n",
    "\n",
    "print(f'El resultado del reporte es: \\n{generar_reporte(parametros)}')"
   ]
  },
  {
   "cell_type": "markdown",
   "metadata": {},
   "source": [
    "Ahora que hemos definido la función de informes, vamos a comprobarlo. Para esta misión, los tanques no están llenos:"
   ]
  },
  {
   "cell_type": "code",
   "execution_count": 49,
   "metadata": {},
   "outputs": [
    {
     "name": "stdout",
     "output_type": "stream",
     "text": [
      "El resultado del reporte es: \n",
      "\n",
      "    Tanque uno: 5%\n",
      "    Tanque dos: 20%\n",
      "    Tanque tres: 15%\n",
      "    Total de tanques: 3%\n",
      "    Promedio de tanques: 13%\n",
      "    \n"
     ]
    }
   ],
   "source": [
    "# Llamamos a la función que genera el reporte print(funcion(tanque1, tanque2, tanque3))\n",
    "\n",
    "# Nota: Agregué un parámetro nuevo para recibir el total de tanques y así dividirlo directamente.\n",
    "\n",
    "print(f'El resultado del reporte es: \\n{generar_reporte(parametros)}')"
   ]
  },
  {
   "cell_type": "markdown",
   "metadata": {},
   "source": [
    "En lugar de simplemente crear el informe, la función también está calculando el promedio. Mejora la legibilidad extrayendo el cálculo promedio de la función en una nueva función para que el promedio se pueda hacer de forma independiente:"
   ]
  },
  {
   "cell_type": "code",
   "execution_count": 50,
   "metadata": {},
   "outputs": [
    {
     "name": "stdout",
     "output_type": "stream",
     "text": [
      "Resultado promedio de tanques: 13%\n"
     ]
    }
   ],
   "source": [
    "# Función promedio \n",
    "\n",
    "# Nota: Agregué un parámetro nuevo para recibir el total de tanques y así dividirlo directamente.\n",
    "\n",
    "def generar_promedio(parametros):\n",
    "    return int((parametros['tanque_uno'] + parametros['tanque_dos'] + parametros['tanque_tres']) / parametros['total_tanques'])\n",
    "\n",
    "print(f'Resultado promedio de tanques: {generar_promedio(parametros)}%')"
   ]
  },
  {
   "cell_type": "markdown",
   "metadata": {},
   "source": [
    "Ahora actualiza la función de informes para llamando a la nueva función del promedio:\n"
   ]
  },
  {
   "cell_type": "code",
   "execution_count": 51,
   "metadata": {},
   "outputs": [
    {
     "name": "stdout",
     "output_type": "stream",
     "text": [
      "El resultado del reporte es: \n",
      "\n",
      "    Reporte de gasolina\n",
      "    Tanque uno: 5%\n",
      "    Tanque dos: 20%\n",
      "    Tanque tres: 15%\n",
      "    Total de tanques: 3%\n",
      "    Promedio de tanques: 13%\n",
      "    \n"
     ]
    }
   ],
   "source": [
    "# Actualiza la función\n",
    "\n",
    "# Nota: Agregué un parámetro nuevo para recibir el total de tanques y así dividirlo directamente.\n",
    "\n",
    "def generar_reporte(parametros):\n",
    "    return f\"\"\"\n",
    "    Reporte de gasolina\n",
    "    Tanque uno: {parametros['tanque_uno']}%\n",
    "    Tanque dos: {parametros['tanque_dos']}%\n",
    "    Tanque tres: {parametros['tanque_tres']}%\n",
    "    Total de tanques: {parametros['total_tanques']}%\n",
    "    Promedio de tanques: {generar_promedio(parametros)}%\n",
    "    \"\"\"\n",
    "\n",
    "\n",
    "print(f'El resultado del reporte es: \\n{generar_reporte(parametros)}')"
   ]
  },
  {
   "cell_type": "code",
   "execution_count": null,
   "metadata": {},
   "outputs": [],
   "source": []
  }
 ],
 "metadata": {
  "interpreter": {
   "hash": "3d50778f0d976ee134ad16b7d438cc0d4a0a5c994fc3aaa18a51826687ff9cff"
  },
  "kernelspec": {
   "display_name": "Python 3.10.2 64-bit",
   "language": "python",
   "name": "python3"
  },
  "language_info": {
   "codemirror_mode": {
    "name": "ipython",
    "version": 3
   },
   "file_extension": ".py",
   "mimetype": "text/x-python",
   "name": "python",
   "nbconvert_exporter": "python",
   "pygments_lexer": "ipython3",
   "version": "3.10.2"
  },
  "orig_nbformat": 4
 },
 "nbformat": 4,
 "nbformat_minor": 2
}
