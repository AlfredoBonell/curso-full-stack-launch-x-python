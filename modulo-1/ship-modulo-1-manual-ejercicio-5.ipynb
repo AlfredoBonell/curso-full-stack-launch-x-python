{
 "cells": [
  {
   "cell_type": "markdown",
   "metadata": {},
   "source": [
    "## Operadores\n",
    "\n",
    "Aprendiendo a utilizar los operadores aritméticos en Python."
   ]
  },
  {
   "cell_type": "code",
   "execution_count": 13,
   "metadata": {},
   "outputs": [
    {
     "name": "stdout",
     "output_type": "stream",
     "text": [
      "El resultado de la suma es: 30 y su tipo de dato es: <class 'int'>\n",
      "\n",
      "El resultado de la resta es: 3 y su tipo de dato es: <class 'int'>\n",
      "\n",
      "El resultado de la división es: 5.0 y su tipo de dato es: <class 'float'>\n",
      "\n",
      "El resultado de la multiplicación es: 24 y su tipo de dato es: <class 'int'>\n",
      "\n"
     ]
    }
   ],
   "source": [
    "num1 = 10\n",
    "num2 = 20\n",
    "sum = num1 + num2\n",
    "\n",
    "print(\"El resultado de la suma es: \" + str(sum) + \" y su tipo de dato es: \" + str(type(sum)) + \"\\n\")\n",
    "\n",
    "num1 = 5\n",
    "num2 = 2\n",
    "res = num1 - num2\n",
    "\n",
    "print(\"El resultado de la resta es: \" + str(res) + \" y su tipo de dato es: \" + str(type(res)) + \"\\n\")\n",
    "\n",
    "num1 = 10\n",
    "num2 = 2\n",
    "div = num1 / num2\n",
    "\n",
    "print(\"El resultado de la división es: \" + str(div) + \" y su tipo de dato es: \" + str(type(div)) + \"\\n\")\n",
    "\n",
    "num1 = 3\n",
    "num2 = 8\n",
    "mul = num1 * num2\n",
    "\n",
    "print(\"El resultado de la multiplicación es: \" + str(mul) + \" y su tipo de dato es: \" + str(type(mul)) + \"\\n\")\n"
   ]
  }
 ],
 "metadata": {
  "interpreter": {
   "hash": "3d50778f0d976ee134ad16b7d438cc0d4a0a5c994fc3aaa18a51826687ff9cff"
  },
  "kernelspec": {
   "display_name": "Python 3.10.2 64-bit",
   "language": "python",
   "name": "python3"
  },
  "language_info": {
   "codemirror_mode": {
    "name": "ipython",
    "version": 3
   },
   "file_extension": ".py",
   "mimetype": "text/x-python",
   "name": "python",
   "nbconvert_exporter": "python",
   "pygments_lexer": "ipython3",
   "version": "3.10.2"
  },
  "orig_nbformat": 4
 },
 "nbformat": 4,
 "nbformat_minor": 2
}
